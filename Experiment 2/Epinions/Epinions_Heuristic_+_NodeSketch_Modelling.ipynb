{
  "cells": [
    {
      "cell_type": "markdown",
      "metadata": {
        "id": "naWvqMEMHglO"
      },
      "source": [
        "<p style=\"font-size:32px;text-align:center\"> <b>Social network Graph Link Prediction - Facebook Challenge</b> </p>"
      ]
    },
    {
      "cell_type": "code",
      "execution_count": null,
      "metadata": {
        "id": "9wb9N5RzHglP"
      },
      "outputs": [],
      "source": [
        "#Importing Libraries\n",
        "# please do go through this python notebook: \n",
        "import warnings\n",
        "warnings.filterwarnings(\"ignore\")\n",
        "\n",
        "import csv\n",
        "import pandas as pd#pandas to create small dataframes \n",
        "import datetime #Convert to unix time\n",
        "import time #Convert to unix time\n",
        "# if numpy is not installed already : pip3 install numpy\n",
        "import numpy as np#Do aritmetic operations on arrays\n",
        "# matplotlib: used to plot graphs\n",
        "import matplotlib\n",
        "import matplotlib.pylab as plt\n",
        "import seaborn as sns#Plots\n",
        "from matplotlib import rcParams#Size of plots  \n",
        "from sklearn.cluster import MiniBatchKMeans, KMeans#Clustering\n",
        "import math\n",
        "import pickle\n",
        "import os\n",
        "# to install xgboost: pip3 install xgboost\n",
        "import xgboost as xgb\n",
        "\n",
        "import warnings\n",
        "import networkx as nx\n",
        "import pdb\n",
        "import pickle\n",
        "from pandas import HDFStore,DataFrame\n",
        "from pandas import read_hdf\n",
        "from scipy.sparse.linalg import svds, eigs\n",
        "import gc\n",
        "from tqdm import tqdm\n",
        "from sklearn.ensemble import RandomForestClassifier\n",
        "from sklearn.metrics import f1_score\n",
        "from pandas import read_hdf\n",
        "from lightgbm import LGBMClassifier\n",
        "from xgboost import XGBClassifier\n",
        "from sklearn.ensemble import RandomForestClassifier"
      ]
    },
    {
      "cell_type": "code",
      "execution_count": null,
      "metadata": {
        "colab": {
          "base_uri": "https://localhost:8080/"
        },
        "id": "XAf8XS0d1el6",
        "outputId": "565ccd82-2791-4851-c2c3-0cf06687b880"
      },
      "outputs": [
        {
          "output_type": "stream",
          "name": "stdout",
          "text": [
            "Mounted at /content/gdrive\n"
          ]
        }
      ],
      "source": [
        "from google.colab import drive\n",
        "drive.mount('/content/gdrive')"
      ]
    },
    {
      "cell_type": "code",
      "execution_count": null,
      "metadata": {
        "id": "nen-lOXY1hdh"
      },
      "outputs": [],
      "source": [
        "data_path = 'gdrive/My Drive/Major Project/'"
      ]
    },
    {
      "cell_type": "code",
      "source": [
        "train_emb, train_y = pickle.load(open(data_path+'train_data_nodesketch91', 'rb'))\n",
        "print(train_emb.shape, train_y.shape)\n",
        "test_emb, test_y = pickle.load(open(data_path+'test_data_nodesketch91', 'rb'))\n",
        "print(test_emb.shape, test_y.shape)"
      ],
      "metadata": {
        "colab": {
          "base_uri": "https://localhost:8080/"
        },
        "id": "glkObLoP4IYq",
        "outputId": "2fad8fab-e493-4441-900d-0cb30295f0bd"
      },
      "execution_count": null,
      "outputs": [
        {
          "output_type": "stream",
          "name": "stdout",
          "text": [
            "(902474, 64) (902474,)\n",
            "(106363, 64) (106363,)\n"
          ]
        }
      ]
    },
    {
      "cell_type": "code",
      "execution_count": null,
      "metadata": {
        "id": "XC4OJFKkHglU"
      },
      "outputs": [],
      "source": [
        "#reading\n",
        "df_final_train = read_hdf(data_path + 'fea_sample/storage_sample_stage4.h5', 'train_df',mode='r')\n",
        "df_final_test = read_hdf(data_path + 'fea_sample/storage_sample_stage4.h5', 'test_df',mode='r')"
      ]
    },
    {
      "cell_type": "code",
      "source": [
        "df_final_train.shape"
      ],
      "metadata": {
        "colab": {
          "base_uri": "https://localhost:8080/"
        },
        "id": "72pBzl2j-ROk",
        "outputId": "b65c575c-a4d3-44ad-b008-e07233e3b8c8"
      },
      "execution_count": null,
      "outputs": [
        {
          "output_type": "execute_result",
          "data": {
            "text/plain": [
              "(902474, 59)"
            ]
          },
          "metadata": {},
          "execution_count": 20
        }
      ]
    },
    {
      "cell_type": "code",
      "execution_count": null,
      "metadata": {
        "id": "XRW7VZ4AHglc"
      },
      "outputs": [],
      "source": [
        "y_train = df_final_train.link\n",
        "y_test = df_final_test.link"
      ]
    },
    {
      "cell_type": "code",
      "execution_count": null,
      "metadata": {
        "id": "4lj9M_qtHglf"
      },
      "outputs": [],
      "source": [
        "df_final_train.drop(['src', 'dest','link'],axis=1,inplace=True)\n",
        "df_final_test.drop(['src', 'dest','link'],axis=1,inplace=True)"
      ]
    },
    {
      "cell_type": "code",
      "source": [
        "# Heuristic only\n",
        "%%time\n",
        "clf = LGBMClassifier(learning_rate=0.01, max_depth=15, n_estimators=160, random_state=25)\n",
        "clf.fit(df_final_train, train_y)\n",
        "train_sc = f1_score(train_y,clf.predict(df_final_train))\n",
        "test_sc = f1_score(test_y,clf.predict(df_final_test))\n",
        "print('Train Score',train_sc,'test Score',test_sc)"
      ],
      "metadata": {
        "colab": {
          "base_uri": "https://localhost:8080/"
        },
        "id": "aLWTbzIV5-4p",
        "outputId": "2baa74a2-d331-4f64-9d68-4cc570e905c5"
      },
      "execution_count": null,
      "outputs": [
        {
          "output_type": "stream",
          "name": "stdout",
          "text": [
            "Train Score 0.9772577484662305 test Score 0.9504062813840956\n",
            "CPU times: user 1min 46s, sys: 200 ms, total: 1min 46s\n",
            "Wall time: 1min 3s\n"
          ]
        }
      ]
    },
    {
      "cell_type": "code",
      "source": [
        "# NodeSketch only\n",
        "clf = XGBClassifier(max_depth=7, n_estimators=100, n_jobs=-1,\n",
        "              random_state=25)\n",
        "clf.fit(train_emb, train_y)\n",
        "train_sc = f1_score(train_y,clf.predict(train_emb))\n",
        "test_sc = f1_score(test_y,clf.predict(test_emb))\n",
        "print('Train Score',train_sc,'test Score',test_sc)"
      ],
      "metadata": {
        "colab": {
          "base_uri": "https://localhost:8080/",
          "height": 235
        },
        "id": "qdzV87IbBJOa",
        "outputId": "6896f393-32f0-4ba4-91a9-781858b33768"
      },
      "execution_count": null,
      "outputs": [
        {
          "output_type": "error",
          "ename": "NameError",
          "evalue": "ignored",
          "traceback": [
            "\u001b[0;31m---------------------------------------------------------------------------\u001b[0m",
            "\u001b[0;31mNameError\u001b[0m                                 Traceback (most recent call last)",
            "\u001b[0;32m<ipython-input-10-79330525c82e>\u001b[0m in \u001b[0;36m<module>\u001b[0;34m()\u001b[0m\n\u001b[1;32m      1\u001b[0m \u001b[0;31m# WYS only\u001b[0m\u001b[0;34m\u001b[0m\u001b[0;34m\u001b[0m\u001b[0;34m\u001b[0m\u001b[0m\n\u001b[0;32m----> 2\u001b[0;31m clf = XGBClassifier(max_depth=7, n_estimators=100, n_jobs=-1,\n\u001b[0m\u001b[1;32m      3\u001b[0m               random_state=25)\n\u001b[1;32m      4\u001b[0m \u001b[0mclf\u001b[0m\u001b[0;34m.\u001b[0m\u001b[0mfit\u001b[0m\u001b[0;34m(\u001b[0m\u001b[0mtrain_emb\u001b[0m\u001b[0;34m,\u001b[0m \u001b[0mtrain_y\u001b[0m\u001b[0;34m)\u001b[0m\u001b[0;34m\u001b[0m\u001b[0;34m\u001b[0m\u001b[0m\n\u001b[1;32m      5\u001b[0m \u001b[0mtrain_sc\u001b[0m \u001b[0;34m=\u001b[0m \u001b[0mf1_score\u001b[0m\u001b[0;34m(\u001b[0m\u001b[0mtrain_y\u001b[0m\u001b[0;34m,\u001b[0m\u001b[0mclf\u001b[0m\u001b[0;34m.\u001b[0m\u001b[0mpredict\u001b[0m\u001b[0;34m(\u001b[0m\u001b[0mtrain_emb\u001b[0m\u001b[0;34m)\u001b[0m\u001b[0;34m)\u001b[0m\u001b[0;34m\u001b[0m\u001b[0;34m\u001b[0m\u001b[0m\n",
            "\u001b[0;31mNameError\u001b[0m: name 'XGBClassifier' is not defined"
          ]
        }
      ]
    },
    {
      "cell_type": "code",
      "source": [
        "# NodeSketch only\n",
        "clf = RandomForestClassifier(max_depth=12, n_estimators=100, n_jobs=-1,\n",
        "              random_state=25)\n",
        "clf.fit(train_emb, train_y)\n",
        "train_sc = f1_score(train_y,clf.predict(train_emb))\n",
        "test_sc = f1_score(test_y,clf.predict(test_emb))\n",
        "print('Train Score',train_sc,'test Score',test_sc)"
      ],
      "metadata": {
        "colab": {
          "base_uri": "https://localhost:8080/"
        },
        "id": "F2Adz232P_jt",
        "outputId": "5c21d54f-b7b6-4fb4-e006-19457e043f84"
      },
      "execution_count": null,
      "outputs": [
        {
          "output_type": "stream",
          "name": "stdout",
          "text": [
            "Train Score 0.8055158702836684 test Score 0.8191895361343372\n"
          ]
        }
      ]
    },
    {
      "cell_type": "code",
      "source": [
        "# NodeSketch only\n",
        "clf = LGBMClassifier(boosting_type='gbdt', num_leaves=31, max_depth=-1, learning_rate=0.1, n_estimators=100, subsample_for_bin=200000, \n",
        "                     objective=None, class_weight=None, min_split_gain=0.0, min_child_weight=0.001, min_child_samples=20, subsample=1.0, \n",
        "                     subsample_freq=0, colsample_bytree=1.0, reg_alpha=0.0, reg_lambda=0.0, random_state=None, n_jobs=- 1, importance_type='split')\n",
        "clf.fit(train_emb, train_y)\n",
        "train_sc = f1_score(train_y,clf.predict(train_emb))\n",
        "test_sc = f1_score(test_y,clf.predict(test_emb))\n",
        "print('Train Score',train_sc,'test Score',test_sc)"
      ],
      "metadata": {
        "colab": {
          "base_uri": "https://localhost:8080/",
          "height": 235
        },
        "id": "0aHS82qGC-3M",
        "outputId": "a295d404-2aee-4ce1-b85d-86605df468fa"
      },
      "execution_count": null,
      "outputs": [
        {
          "output_type": "error",
          "ename": "NameError",
          "evalue": "ignored",
          "traceback": [
            "\u001b[0;31m---------------------------------------------------------------------------\u001b[0m",
            "\u001b[0;31mNameError\u001b[0m                                 Traceback (most recent call last)",
            "\u001b[0;32m<ipython-input-12-bd75968cf8d2>\u001b[0m in \u001b[0;36m<module>\u001b[0;34m()\u001b[0m\n\u001b[1;32m      1\u001b[0m \u001b[0;31m# WYS only\u001b[0m\u001b[0;34m\u001b[0m\u001b[0;34m\u001b[0m\u001b[0;34m\u001b[0m\u001b[0m\n\u001b[0;32m----> 2\u001b[0;31m clf = LGBMClassifier(boosting_type='gbdt', num_leaves=31, max_depth=-1, learning_rate=0.1, n_estimators=100, subsample_for_bin=200000, \n\u001b[0m\u001b[1;32m      3\u001b[0m                      \u001b[0mobjective\u001b[0m\u001b[0;34m=\u001b[0m\u001b[0;32mNone\u001b[0m\u001b[0;34m,\u001b[0m \u001b[0mclass_weight\u001b[0m\u001b[0;34m=\u001b[0m\u001b[0;32mNone\u001b[0m\u001b[0;34m,\u001b[0m \u001b[0mmin_split_gain\u001b[0m\u001b[0;34m=\u001b[0m\u001b[0;36m0.0\u001b[0m\u001b[0;34m,\u001b[0m \u001b[0mmin_child_weight\u001b[0m\u001b[0;34m=\u001b[0m\u001b[0;36m0.001\u001b[0m\u001b[0;34m,\u001b[0m \u001b[0mmin_child_samples\u001b[0m\u001b[0;34m=\u001b[0m\u001b[0;36m20\u001b[0m\u001b[0;34m,\u001b[0m \u001b[0msubsample\u001b[0m\u001b[0;34m=\u001b[0m\u001b[0;36m1.0\u001b[0m\u001b[0;34m,\u001b[0m\u001b[0;34m\u001b[0m\u001b[0;34m\u001b[0m\u001b[0m\n\u001b[1;32m      4\u001b[0m                      subsample_freq=0, colsample_bytree=1.0, reg_alpha=0.0, reg_lambda=0.0, random_state=None, n_jobs=- 1, importance_type='split')\n\u001b[1;32m      5\u001b[0m \u001b[0mclf\u001b[0m\u001b[0;34m.\u001b[0m\u001b[0mfit\u001b[0m\u001b[0;34m(\u001b[0m\u001b[0mtrain_emb\u001b[0m\u001b[0;34m,\u001b[0m \u001b[0mtrain_y\u001b[0m\u001b[0;34m)\u001b[0m\u001b[0;34m\u001b[0m\u001b[0;34m\u001b[0m\u001b[0m\n",
            "\u001b[0;31mNameError\u001b[0m: name 'LGBMClassifier' is not defined"
          ]
        }
      ]
    },
    {
      "cell_type": "code",
      "source": [
        "# Heuristic only\n",
        "clf = XGBClassifier(max_depth=7, n_estimators=100, n_jobs=-1,\n",
        "              random_state=25)f\n",
        "clf.fit(df_final_train,y_train)\n",
        "train_sc = f1_score(y_train,clf.predict(df_final_train))\n",
        "test_sc = f1_score(y_test,clf.predict(df_final_test))\n",
        "print('Train Score',train_sc,'test Score',test_sc)"
      ],
      "metadata": {
        "colab": {
          "base_uri": "https://localhost:8080/"
        },
        "id": "cCIt4TbbLFuY",
        "outputId": "858cd72e-da5b-4cca-859b-1bdf7b56cacc"
      },
      "execution_count": null,
      "outputs": [
        {
          "output_type": "stream",
          "name": "stdout",
          "text": [
            "Train Score 0.983029655226594 test Score 0.9458179808400884\n"
          ]
        }
      ]
    },
    {
      "cell_type": "code",
      "source": [
        "# Heuristic only\n",
        "clf = RandomForestClassifier(max_depth=12, n_estimators=100, n_jobs=-1,\n",
        "              random_state=25)\n",
        "clf.fit(df_final_train,y_train)\n",
        "train_sc = f1_score(y_train,clf.predict(df_final_train))\n",
        "test_sc = f1_score(y_test,clf.predict(df_final_test))\n",
        "print('Train Score',train_sc,'test Score',test_sc)"
      ],
      "metadata": {
        "colab": {
          "base_uri": "https://localhost:8080/"
        },
        "id": "81Z4cDJxQM8t",
        "outputId": "382a8bb5-b51e-43e5-c77d-71199a3586c3"
      },
      "execution_count": null,
      "outputs": [
        {
          "output_type": "stream",
          "name": "stdout",
          "text": [
            "Train Score 0.9771341261464953 test Score 0.9465713006860139\n"
          ]
        }
      ]
    },
    {
      "cell_type": "code",
      "source": [
        "# Heuristic only\n",
        "clf = LGBMClassifier(boosting_type='gbdt', num_leaves=31, max_depth=-1, learning_rate=0.1, n_estimators=100, subsample_for_bin=200000, \n",
        "                     objective=None, class_weight=None, min_split_gain=0.0, min_child_weight=0.001, min_child_samples=20, subsample=1.0, \n",
        "                     subsample_freq=0, colsample_bytree=1.0, reg_alpha=0.0, reg_lambda=0.0, random_state=None, n_jobs=- 1, importance_type='split')\n",
        "clf.fit(df_final_train,y_train)\n",
        "train_sc = f1_score(y_train,clf.predict(df_final_train))\n",
        "test_sc = f1_score(y_test,clf.predict(df_final_test))\n",
        "print('Train Score',train_sc,'test Score',test_sc)"
      ],
      "metadata": {
        "colab": {
          "base_uri": "https://localhost:8080/"
        },
        "id": "7HcM33fiCVgS",
        "outputId": "8db48cb9-de4b-4c0f-9f6d-f407763adc01"
      },
      "execution_count": null,
      "outputs": [
        {
          "output_type": "stream",
          "name": "stdout",
          "text": [
            "Train Score 0.9832426574663836 test Score 0.9469947114279144\n"
          ]
        }
      ]
    },
    {
      "cell_type": "code",
      "source": [
        "df_final_train = np.hstack((df_final_train, train_emb))\n",
        "print(df_final_train.shape)\n",
        "df_final_test = np.hstack((df_final_test, test_emb))\n",
        "print(df_final_test.shape)"
      ],
      "metadata": {
        "colab": {
          "base_uri": "https://localhost:8080/"
        },
        "id": "5Y4ziAo-TeSA",
        "outputId": "eca27b91-3cb6-4e72-a68c-86393504a7b9"
      },
      "execution_count": null,
      "outputs": [
        {
          "output_type": "stream",
          "name": "stdout",
          "text": [
            "(902474, 120)\n",
            "(106363, 120)\n"
          ]
        }
      ]
    },
    {
      "cell_type": "code",
      "source": [
        "# Heuristic + NodeSketch\n",
        "clf = XGBClassifier(max_depth=7, n_estimators=100, n_jobs=-1,\n",
        "              random_state=25)\n",
        "clf.fit(df_final_train,y_train)\n",
        "train_sc = f1_score(y_train,clf.predict(df_final_train))\n",
        "test_sc = f1_score(y_test,clf.predict(df_final_test))\n",
        "print('Train Score',train_sc,'test Score',test_sc)"
      ],
      "metadata": {
        "colab": {
          "base_uri": "https://localhost:8080/"
        },
        "id": "sgPad9CbCGco",
        "outputId": "3bea849f-94cf-4f3b-b7c3-c76b7535ae74"
      },
      "execution_count": null,
      "outputs": [
        {
          "output_type": "stream",
          "name": "stdout",
          "text": [
            "Train Score 0.983071290018822 test Score 0.945929766717934\n"
          ]
        }
      ]
    },
    {
      "cell_type": "code",
      "source": [
        "# Heuristic + NodeSketch\n",
        "clf = RandomForestClassifier(max_depth=12, n_estimators=100, n_jobs=-1,\n",
        "              random_state=25)\n",
        "clf.fit(df_final_train,y_train)\n",
        "train_sc = f1_score(y_train,clf.predict(df_final_train))\n",
        "test_sc = f1_score(y_test,clf.predict(df_final_test))\n",
        "print('Train Score',train_sc,'test Score',test_sc)"
      ],
      "metadata": {
        "colab": {
          "base_uri": "https://localhost:8080/"
        },
        "id": "GcRwRTCvQeVV",
        "outputId": "3510c492-f217-42b4-acb1-eab27e422140"
      },
      "execution_count": null,
      "outputs": [
        {
          "output_type": "stream",
          "name": "stdout",
          "text": [
            "Train Score 0.9740912011838966 test Score 0.9400686503056224\n"
          ]
        }
      ]
    },
    {
      "cell_type": "code",
      "source": [
        "# Heuristic + NodeSketch\n",
        "clf = LGBMClassifier(boosting_type='gbdt', num_leaves=31, max_depth=-1, learning_rate=0.1, n_estimators=100, subsample_for_bin=200000, \n",
        "                     objective=None, class_weight=None, min_split_gain=0.0, min_child_weight=0.001, min_child_samples=20, subsample=1.0, \n",
        "                     subsample_freq=0, colsample_bytree=1.0, reg_alpha=0.0, reg_lambda=0.0, random_state=None, n_jobs=- 1, importance_type='split')\n",
        "clf.fit(df_final_train,y_train)\n",
        "train_sc = f1_score(y_train,clf.predict(df_final_train))\n",
        "test_sc = f1_score(y_test,clf.predict(df_final_test))\n",
        "print('Train Score',train_sc,'test Score',test_sc)"
      ],
      "metadata": {
        "colab": {
          "base_uri": "https://localhost:8080/"
        },
        "outputId": "40d453c0-8b14-448a-ff14-3e8e1007d27d",
        "id": "tDCP627SQeVW"
      },
      "execution_count": null,
      "outputs": [
        {
          "output_type": "stream",
          "name": "stdout",
          "text": [
            "Train Score 0.983167768283391 test Score 0.9474826229267036\n"
          ]
        }
      ]
    },
    {
      "cell_type": "code",
      "execution_count": null,
      "metadata": {
        "colab": {
          "base_uri": "https://localhost:8080/"
        },
        "id": "jazi-Y1krh7k",
        "outputId": "7f56468b-223d-4cdd-cccc-1dd8e87d7c1b"
      },
      "outputs": [
        {
          "output_type": "stream",
          "name": "stdout",
          "text": [
            "Train Score 0.9772577484662305 test Score 0.9504062813840956\n",
            "CPU times: user 3min 11s, sys: 330 ms, total: 3min 11s\n",
            "Wall time: 1min 41s\n"
          ]
        }
      ],
      "source": [
        "%%time\n",
        "clf = LGBMClassifier(learning_rate=0.01, max_depth=15, n_estimators=160, random_state=25)\n",
        "clf.fit(df_final_train, train_y)\n",
        "train_sc = f1_score(train_y,clf.predict(df_final_train))\n",
        "test_sc = f1_score(test_y,clf.predict(df_final_test))\n",
        "print('Train Score',train_sc,'test Score',test_sc)"
      ]
    },
    {
      "cell_type": "code",
      "execution_count": null,
      "metadata": {
        "id": "5XfUkZYQHgl7"
      },
      "outputs": [],
      "source": [
        "from sklearn.metrics import confusion_matrix\n",
        "def plot_confusion_matrix(test_y, predict_y):\n",
        "    C = confusion_matrix(test_y, predict_y)\n",
        "    \n",
        "    A =(((C.T)/(C.sum(axis=1))).T)\n",
        "    \n",
        "    B =(C/C.sum(axis=0))\n",
        "    plt.figure(figsize=(20,4))\n",
        "    \n",
        "    labels = [0,1]\n",
        "    # representing A in heatmap format\n",
        "    cmap=sns.light_palette(\"blue\")\n",
        "    plt.subplot(1, 3, 1)\n",
        "    sns.heatmap(C, annot=True, cmap=cmap, fmt=\".3f\", xticklabels=labels, yticklabels=labels)\n",
        "    plt.xlabel('Predicted Class')\n",
        "    plt.ylabel('Original Class')\n",
        "    plt.title(\"Confusion matrix\")\n",
        "    \n",
        "    plt.subplot(1, 3, 2)\n",
        "    sns.heatmap(B, annot=True, cmap=cmap, fmt=\".3f\", xticklabels=labels, yticklabels=labels)\n",
        "    plt.xlabel('Predicted Class')\n",
        "    plt.ylabel('Original Class')\n",
        "    plt.title(\"Precision matrix\")\n",
        "    \n",
        "    plt.subplot(1, 3, 3)\n",
        "    # representing B in heatmap format\n",
        "    sns.heatmap(A, annot=True, cmap=cmap, fmt=\".3f\", xticklabels=labels, yticklabels=labels)\n",
        "    plt.xlabel('Predicted Class')\n",
        "    plt.ylabel('Original Class')\n",
        "    plt.title(\"Recall matrix\")\n",
        "    \n",
        "    plt.show()"
      ]
    },
    {
      "cell_type": "code",
      "execution_count": null,
      "metadata": {
        "id": "s6t11dhTHgl-",
        "colab": {
          "base_uri": "https://localhost:8080/",
          "height": 608
        },
        "outputId": "42fc48e1-42b5-4af1-87f6-61df3a363d2b"
      },
      "outputs": [
        {
          "output_type": "stream",
          "name": "stdout",
          "text": [
            "Train confusion_matrix\n"
          ]
        },
        {
          "output_type": "display_data",
          "data": {
            "text/plain": [
              "<Figure size 1440x288 with 6 Axes>"
            ],
            "image/png": "[encoded data removed]"
          },
          "metadata": {
            "needs_background": "light"
          }
        },
        {
          "output_type": "stream",
          "name": "stdout",
          "text": [
            "Test confusion_matrix\n"
          ]
        },
        {
          "output_type": "display_data",
          "data": {
            "text/plain": [
              "<Figure size 1440x288 with 6 Axes>"
            ],
            "image/png": "[encoded data removed]"
          },
          "metadata": {
            "needs_background": "light"
          }
        }
      ],
      "source": [
        "print('Train confusion_matrix')\n",
        "plot_confusion_matrix(y_train,y_train_pred)\n",
        "print('Test confusion_matrix')\n",
        "plot_confusion_matrix(y_test,y_test_pred)"
      ]
    },
    {
      "cell_type": "code",
      "execution_count": null,
      "metadata": {
        "id": "61TF-VLeHgmD",
        "colab": {
          "base_uri": "https://localhost:8080/",
          "height": 295
        },
        "outputId": "d60b77cc-edc8-4959-f322-4a09cc0692d4"
      },
      "outputs": [
        {
          "output_type": "display_data",
          "data": {
            "text/plain": [
              "<Figure size 432x288 with 1 Axes>"
            ],
            "image/png": "[encoded data removed]"
          },
          "metadata": {
            "needs_background": "light"
          }
        }
      ],
      "source": [
        "from sklearn.metrics import roc_curve, auc\n",
        "fpr,tpr,ths = roc_curve(y_test,y_test_pred)\n",
        "auc_sc = auc(fpr, tpr)\n",
        "plt.plot(fpr, tpr, color='navy',label='ROC curve (area = %0.2f)' % auc_sc)\n",
        "plt.xlabel('False Positive Rate')\n",
        "plt.ylabel('True Positive Rate')\n",
        "plt.title('Receiver operating characteristic with test data')\n",
        "plt.legend()\n",
        "plt.show()"
      ]
    },
    {
      "cell_type": "code",
      "execution_count": null,
      "metadata": {
        "colab": {
          "base_uri": "https://localhost:8080/",
          "height": 730
        },
        "id": "HEZ7uvN6HgmK",
        "outputId": "9edfdd6c-a390-40cd-c086-ae57d9ac6c2a",
        "scrolled": true
      },
      "outputs": [
        {
          "output_type": "display_data",
          "data": {
            "text/plain": [
              "<Figure size 720x864 with 1 Axes>"
            ],
            "image/png": "[encoded data removed]"
          },
          "metadata": {
            "needs_background": "light"
          }
        }
      ],
      "source": [
        "features = df_final_train.columns\n",
        "importances = clf.feature_importances_\n",
        "indices = (np.argsort(importances))[-25:]\n",
        "plt.figure(figsize=(10,12))\n",
        "plt.title('Feature Importances')\n",
        "plt.barh(range(len(indices)), importances[indices], color='r', align='center')\n",
        "plt.yticks(range(len(indices)), [features[i] for i in indices])\n",
        "plt.xlabel('Relative Importance')\n",
        "plt.show()"
      ]
    },
    {
      "cell_type": "code",
      "execution_count": null,
      "metadata": {
        "colab": {
          "base_uri": "https://localhost:8080/",
          "height": 730
        },
        "id": "W8fdzZdp1H30",
        "outputId": "ad3bc0d1-3595-47f1-d7b2-7ff32dff4fba"
      },
      "outputs": [
        {
          "data": {
            "image/png": "[encoded data removed]",
            "text/plain": [
              "<Figure size 720x864 with 1 Axes>"
            ]
          },
          "metadata": {},
          "output_type": "display_data"
        }
      ],
      "source": [
        "features = df_final_train.columns\n",
        "importances = x_clf.feature_importances_\n",
        "indices = (np.argsort(importances))[-25:]\n",
        "plt.figure(figsize=(10,12))\n",
        "plt.title('Feature Importances')\n",
        "plt.barh(range(len(indices)), importances[indices], color='r', align='center')\n",
        "plt.yticks(range(len(indices)), [features[i] for i in indices])\n",
        "plt.xlabel('Relative Importance')\n",
        "plt.show()"
      ]
    },
    {
      "cell_type": "markdown",
      "metadata": {
        "id": "NE_60AbX1H31"
      },
      "source": [
        "# Step-by-step analysis"
      ]
    },
    {
      "cell_type": "markdown",
      "metadata": {
        "id": "LCg6rR3W1H31"
      },
      "source": [
        "## Part 1 - EDA\n",
        "\n",
        "#### 1) Analysing the 'follower' trends by plotting the distribution of the number of followers of each user\n",
        "\n",
        "#### 2) Analysing the 'followee' trends by plotting the distribution of the number of followees of each user\n",
        "\n",
        "#### 3) Analyizing as above for the aggregate of the number of followers and followees of each user\n",
        "\n",
        "## Part 2 - Mapping into a classification problem\n",
        "\n",
        "#### 1) Generating pairs of users without edges\n",
        "The original data had information only about the links that were already present hence it wasn't adequate for training any model. Here we have taken random pairs of users amd added them to the data if there is no edge between them already and the shortest path length between them is more than 2. \n",
        "\n",
        "#### 2) Splitting into train and test data\n",
        "This is done for two sets (the data in which the edges exist and that in which the don't), before combining the two to get the final training data. The training data of the points between which links actually exist, shall be used later."
      ]
    },
    {
      "cell_type": "markdown",
      "metadata": {
        "id": "ivHD6J5A1H31"
      },
      "source": [
        "## Part 3 - Feature engineering\n",
        "\n",
        "### 1) Generating features\n",
        "\n",
        "#### a) Similarity measures \n",
        "Jaccard distance and cosine distance (calculated by using graph attributes of the training graph containing user pairs with actual links)\n",
        "\n",
        "#### b) Ranking features\n",
        "PageRank (using nx.pagerank)\n",
        "\n",
        "#### c) Graph related features\n",
        "Shortest path, presence in same community (of weakly connected components), adar index, preferrential attachment, if the destination user follows back or not. All these are calculated by using graph attributes of the training graph containing user pairs with actual links.\n",
        "<br>\n",
        "Katz centrality (using nx.katz.katz_centrality), HITS score (using nx.hits)\n",
        "Number of followers and followees of source and destination node, as well as the commonality bwteen these measures.\n",
        "\n",
        "#### d) Weight features\n",
        "Various combination of weights of source and destination nodes (fundamentally a metric of incoming and outgoing nodes to indicate influence)\n",
        "\n",
        "#### e) SVD features\n",
        "SVD features of length 6 are generated for all the points and are added as 6 features in each case. The dot products of the source and destination node U and VT vectors are also added as features.\n",
        "\n",
        "### 2) Adding the features to the data \n",
        "This is done using row operations on the data set with lambda functions employing the functions created above to generate the concerned features"
      ]
    },
    {
      "cell_type": "markdown",
      "metadata": {
        "id": "5n6k0XIh1H31"
      },
      "source": [
        "## Part - 4 Modelling\n",
        "We first drop the features of 'src', 'dest' and 'indicator_link'\n",
        "\n",
        "## 1) Hyperparameter tuning\n",
        "\n",
        "#### a) Single feature estimate\n",
        "In this process, we are tuning the model only for a single feature keeping the others constant (for example max_depth in RandomForest and XGBClassifier, and later n_estimators)\n",
        "\n",
        "#### b) RandomSearchCV\n",
        "We are using the most suitable interval of values for the features found in the previous step and are running RandomSearchCV to fing the best set of parameters\n",
        "\n",
        "### 2) Visualization of results\n",
        "\n",
        "#### a) Plotting of the confusion matrix\n",
        "\n",
        "#### b) Plotting of the roc_auc curve\n",
        "\n",
        "### 3) Checking feature importance\n",
        "Using the feature importances attribute of the classiifer, observing which fetaures are most influencial"
      ]
    },
    {
      "cell_type": "markdown",
      "metadata": {
        "id": "WXr9BqGr1H31"
      },
      "source": [
        "## Conclusion\n",
        "1) The XGBoost classifier works marginally better than the Random Forest classifier\n",
        "<br>\n",
        "2) According to both the classisifers, the most important feature to determine whether a will follow b is the 'follows back' feature whixh tells us if b follows a or not.\n",
        "<br>\n",
        "3) The Random Forest method indicates that many features such as 'cosine distance', various weight features, 'shortest path', 'preferrential attachment' have similar and significant importance with many other features such as 'Jaccard distance' and 'Adar index' not far behind.\n",
        "<br>\n",
        "4) The XGBoost classifier tells a different story. The 'follows back' feature takes most of the relative feature importance and the only other majorly significant feature is the cosine distance of followers. The other features don't have nearly as much influnce as these two.\n",
        "<br>\n",
        "5) Features such as 'PageRank', 'Katz centrality', 'HITS score', and most SVD features have little importance compared to the features meantioned above."
      ]
    },
    {
      "cell_type": "code",
      "execution_count": null,
      "metadata": {
        "id": "IJuD4EGZ1H32"
      },
      "outputs": [],
      "source": []
    }
  ],
  "metadata": {
    "colab": {
      "collapsed_sections": [],
      "provenance": []
    },
    "kernelspec": {
      "display_name": "Python 3",
      "language": "python",
      "name": "python3"
    },
    "language_info": {
      "codemirror_mode": {
        "name": "ipython",
        "version": 3
      },
      "file_extension": ".py",
      "mimetype": "text/x-python",
      "name": "python",
      "nbconvert_exporter": "python",
      "pygments_lexer": "ipython3",
      "version": "3.7.3"
    },
    "gpuClass": "standard"
  },
  "nbformat": 4,
  "nbformat_minor": 0
}